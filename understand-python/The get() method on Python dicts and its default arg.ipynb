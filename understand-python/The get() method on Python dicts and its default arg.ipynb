{
 "cells": [
  {
   "cell_type": "code",
   "execution_count": 2,
   "metadata": {
    "ExecuteTime": {
     "end_time": "2019-05-02T06:35:38.824293Z",
     "start_time": "2019-05-02T06:35:38.817367Z"
    }
   },
   "outputs": [],
   "source": [
    "# The get() method on Python dicts and its \"default\" arg\n",
    "\n",
    "user_name_by_id = {\n",
    "    1 : \"Tom\",\n",
    "    2 : \"Alice\",\n",
    "    3 : \"Bob\"\n",
    "}\n",
    "\n",
    "def greeting(user_id):\n",
    "    return f'Hi {user_name_by_id.get(user_id, \"there\")}'"
   ]
  },
  {
   "cell_type": "code",
   "execution_count": 3,
   "metadata": {
    "ExecuteTime": {
     "end_time": "2019-05-02T06:35:54.632766Z",
     "start_time": "2019-05-02T06:35:54.624609Z"
    }
   },
   "outputs": [
    {
     "data": {
      "text/plain": [
       "'Hi Tom'"
      ]
     },
     "execution_count": 3,
     "metadata": {},
     "output_type": "execute_result"
    }
   ],
   "source": [
    "greeting(1)"
   ]
  },
  {
   "cell_type": "code",
   "execution_count": 4,
   "metadata": {
    "ExecuteTime": {
     "end_time": "2019-05-02T06:36:01.130772Z",
     "start_time": "2019-05-02T06:36:01.124888Z"
    }
   },
   "outputs": [
    {
     "data": {
      "text/plain": [
       "'Hi Alice'"
      ]
     },
     "execution_count": 4,
     "metadata": {},
     "output_type": "execute_result"
    }
   ],
   "source": [
    "greeting(2)"
   ]
  },
  {
   "cell_type": "code",
   "execution_count": 5,
   "metadata": {
    "ExecuteTime": {
     "end_time": "2019-05-02T06:36:07.100586Z",
     "start_time": "2019-05-02T06:36:07.093038Z"
    }
   },
   "outputs": [
    {
     "data": {
      "text/plain": [
       "'Hi there'"
      ]
     },
     "execution_count": 5,
     "metadata": {},
     "output_type": "execute_result"
    }
   ],
   "source": [
    "greeting(1111)"
   ]
  }
 ],
 "metadata": {
  "kernelspec": {
   "display_name": "python pratice",
   "language": "python",
   "name": "env_name"
  },
  "language_info": {
   "codemirror_mode": {
    "name": "ipython",
    "version": 3
   },
   "file_extension": ".py",
   "mimetype": "text/x-python",
   "name": "python",
   "nbconvert_exporter": "python",
   "pygments_lexer": "ipython3",
   "version": "3.7.1"
  },
  "toc": {
   "base_numbering": 1,
   "nav_menu": {},
   "number_sections": true,
   "sideBar": true,
   "skip_h1_title": false,
   "title_cell": "Table of Contents",
   "title_sidebar": "Contents",
   "toc_cell": false,
   "toc_position": {},
   "toc_section_display": true,
   "toc_window_display": false
  }
 },
 "nbformat": 4,
 "nbformat_minor": 2
}
