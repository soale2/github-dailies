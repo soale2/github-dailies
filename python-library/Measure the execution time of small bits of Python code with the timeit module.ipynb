{
 "cells": [
  {
   "cell_type": "markdown",
   "metadata": {},
   "source": [
    "#### timeit 官方文档：[ Measure execution time of small code snippets](https://docs.python.org/2/library/timeit.html)\n"
   ]
  },
  {
   "cell_type": "code",
   "execution_count": 2,
   "metadata": {
    "ExecuteTime": {
     "end_time": "2019-05-11T14:58:36.487204Z",
     "start_time": "2019-05-11T14:58:36.134876Z"
    }
   },
   "outputs": [
    {
     "data": {
      "text/plain": [
       "0.335167690999981"
      ]
     },
     "execution_count": 2,
     "metadata": {},
     "output_type": "execute_result"
    }
   ],
   "source": [
    "# The \"timeit\" module lets you mesure the execution \n",
    "# time of small bits of Python code\n",
    "\n",
    "import timeit\n",
    "\n",
    "timeit.timeit('\"-\".join(str(n) for n in range(100))', number=10000)"
   ]
  },
  {
   "cell_type": "code",
   "execution_count": 3,
   "metadata": {
    "ExecuteTime": {
     "end_time": "2019-05-11T14:59:38.747212Z",
     "start_time": "2019-05-11T14:59:38.477085Z"
    }
   },
   "outputs": [
    {
     "data": {
      "text/plain": [
       "0.26447280999997247"
      ]
     },
     "execution_count": 3,
     "metadata": {},
     "output_type": "execute_result"
    }
   ],
   "source": [
    "timeit.timeit('\"-\".join([str(n) for n in range(100)])', number = 10000)"
   ]
  },
  {
   "cell_type": "code",
   "execution_count": 4,
   "metadata": {
    "ExecuteTime": {
     "end_time": "2019-05-11T15:00:16.519652Z",
     "start_time": "2019-05-11T15:00:16.493424Z"
    }
   },
   "outputs": [
    {
     "data": {
      "text/plain": [
       "0.02066809200005082"
      ]
     },
     "execution_count": 4,
     "metadata": {},
     "output_type": "execute_result"
    }
   ],
   "source": [
    "timeit.timeit('\"-\".join(map(str, range(100)))',number = 1000)"
   ]
  },
  {
   "cell_type": "code",
   "execution_count": 11,
   "metadata": {
    "ExecuteTime": {
     "end_time": "2019-05-11T15:17:57.719838Z",
     "start_time": "2019-05-11T15:17:56.460550Z"
    }
   },
   "outputs": [
    {
     "name": "stdout",
     "output_type": "stream",
     "text": [
      "1.2532267009999032\n"
     ]
    }
   ],
   "source": [
    "# To give the timeit module access to functions you define,\n",
    "# you can pass a setup parameter which contains an import statement\n",
    "\n",
    "import timeit\n",
    "\n",
    "def test_function():\n",
    "    \"\"\"Just a test function\"\"\"\n",
    "    lists = []\n",
    "    for i in range(10):\n",
    "        lists.append(i)\n",
    "        \n",
    "if __name__ == '__main__':\n",
    "    print(timeit.timeit(\"test_function()\", setup=\"from __main__ import test_function\"))"
   ]
  },
  {
   "cell_type": "code",
   "execution_count": null,
   "metadata": {},
   "outputs": [],
   "source": []
  }
 ],
 "metadata": {
  "kernelspec": {
   "display_name": "python pratice",
   "language": "python",
   "name": "env_name"
  },
  "language_info": {
   "codemirror_mode": {
    "name": "ipython",
    "version": 3
   },
   "file_extension": ".py",
   "mimetype": "text/x-python",
   "name": "python",
   "nbconvert_exporter": "python",
   "pygments_lexer": "ipython3",
   "version": "3.7.1"
  },
  "toc": {
   "base_numbering": 1,
   "nav_menu": {},
   "number_sections": true,
   "sideBar": true,
   "skip_h1_title": false,
   "title_cell": "Table of Contents",
   "title_sidebar": "Contents",
   "toc_cell": false,
   "toc_position": {},
   "toc_section_display": true,
   "toc_window_display": false
  }
 },
 "nbformat": 4,
 "nbformat_minor": 2
}
